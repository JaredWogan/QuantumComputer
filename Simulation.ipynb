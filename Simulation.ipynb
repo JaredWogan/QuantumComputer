{
 "cells": [
  {
   "cell_type": "markdown",
   "metadata": {},
   "source": [
    "# __Quantum Mechanics__\n",
    "## PHYS 4P51, Jared Wogan, November 19, 2021\n",
    "\n",
    "__Note:__ My code is not very well documented or commented, I hope that is okay. Most of the functions should be self explanatory though.\n",
    "\n",
    "---"
   ]
  },
  {
   "cell_type": "markdown",
   "metadata": {},
   "source": [
    "### Quantum States, Gates, and Measurements"
   ]
  },
  {
   "cell_type": "code",
   "execution_count": 2,
   "metadata": {},
   "outputs": [],
   "source": [
    "from Quantum import State, zero, one, minus, plus, plusi, minusi\n",
    "from Quantum import B00, B01, B10, B11, random_state, bits_to_send, receive_state\n",
    "from Quantum import H, CH, X, CX, NOT, CNOT, Y, CY, Z, CZ, P, CP, SWAP\n",
    "from Quantum import state_n_zeros, H_transform, DJU, DJU_result\n",
    "\n",
    "import sympy as sym\n"
   ]
  },
  {
   "cell_type": "code",
   "execution_count": 3,
   "metadata": {},
   "outputs": [
    {
     "data": {
      "text/latex": [
       "$\\left|\\mathtt{\\text{0}}\\right\\rangle$"
      ],
      "text/plain": [
       "<IPython.core.display.Latex object>"
      ]
     },
     "metadata": {},
     "output_type": "display_data"
    },
    {
     "data": {
      "text/latex": [
       "$\\left|1\\right\\rangle$"
      ],
      "text/plain": [
       "<IPython.core.display.Latex object>"
      ]
     },
     "metadata": {},
     "output_type": "display_data"
    },
    {
     "data": {
      "text/latex": [
       "$\\frac{\\sqrt{2}}{2}\\left|\\mathtt{\\text{0}}\\right\\rangle- \\frac{\\sqrt{2}}{2}\\left|\\mathtt{\\text{1}}\\right\\rangle$"
      ],
      "text/plain": [
       "<IPython.core.display.Latex object>"
      ]
     },
     "metadata": {},
     "output_type": "display_data"
    },
    {
     "data": {
      "text/latex": [
       "$\\frac{\\sqrt{2}}{2}\\left|\\mathtt{\\text{0}}\\right\\rangle+\\frac{\\sqrt{2}}{2}\\left|\\mathtt{\\text{1}}\\right\\rangle$"
      ],
      "text/plain": [
       "<IPython.core.display.Latex object>"
      ]
     },
     "metadata": {},
     "output_type": "display_data"
    },
    {
     "data": {
      "text/latex": [
       "$\\frac{\\sqrt{2}}{2}\\left|\\mathtt{\\text{0}}\\right\\rangle- \\frac{\\sqrt{2} i}{2}\\left|\\mathtt{\\text{1}}\\right\\rangle$"
      ],
      "text/plain": [
       "<IPython.core.display.Latex object>"
      ]
     },
     "metadata": {},
     "output_type": "display_data"
    },
    {
     "data": {
      "text/latex": [
       "$\\frac{\\sqrt{2}}{2}\\left|\\mathtt{\\text{0}}\\right\\rangle+\\frac{\\sqrt{2} i}{2}\\left|\\mathtt{\\text{1}}\\right\\rangle$"
      ],
      "text/plain": [
       "<IPython.core.display.Latex object>"
      ]
     },
     "metadata": {},
     "output_type": "display_data"
    }
   ],
   "source": [
    "zero.show()\n",
    "one.show()\n",
    "minus.show()\n",
    "plus.show()\n",
    "minusi.show()\n",
    "plusi.show()\n"
   ]
  },
  {
   "cell_type": "code",
   "execution_count": 4,
   "metadata": {},
   "outputs": [
    {
     "data": {
      "text/latex": [
       "$\\frac{\\sqrt{2}}{2}\\left|\\mathtt{\\text{00}}\\right\\rangle+\\frac{\\sqrt{2}}{2}\\left|\\mathtt{\\text{11}}\\right\\rangle$"
      ],
      "text/plain": [
       "<IPython.core.display.Latex object>"
      ]
     },
     "metadata": {},
     "output_type": "display_data"
    },
    {
     "name": "stdout",
     "output_type": "stream",
     "text": [
      "Entanglement Status: Entangled\n"
     ]
    },
    {
     "data": {
      "text/latex": [
       "$\\frac{\\sqrt{2}}{2}\\left|\\mathtt{\\text{01}}\\right\\rangle+\\frac{\\sqrt{2}}{2}\\left|\\mathtt{\\text{10}}\\right\\rangle$"
      ],
      "text/plain": [
       "<IPython.core.display.Latex object>"
      ]
     },
     "metadata": {},
     "output_type": "display_data"
    },
    {
     "name": "stdout",
     "output_type": "stream",
     "text": [
      "Entanglement Status: Entangled\n"
     ]
    },
    {
     "data": {
      "text/latex": [
       "$\\frac{\\sqrt{2}}{2}\\left|\\mathtt{\\text{00}}\\right\\rangle- \\frac{\\sqrt{2}}{2}\\left|\\mathtt{\\text{11}}\\right\\rangle$"
      ],
      "text/plain": [
       "<IPython.core.display.Latex object>"
      ]
     },
     "metadata": {},
     "output_type": "display_data"
    },
    {
     "name": "stdout",
     "output_type": "stream",
     "text": [
      "Entanglement Status: Entangled\n"
     ]
    },
    {
     "data": {
      "text/latex": [
       "$\\frac{\\sqrt{2}}{2}\\left|\\mathtt{\\text{01}}\\right\\rangle- \\frac{\\sqrt{2}}{2}\\left|\\mathtt{\\text{10}}\\right\\rangle$"
      ],
      "text/plain": [
       "<IPython.core.display.Latex object>"
      ]
     },
     "metadata": {},
     "output_type": "display_data"
    },
    {
     "name": "stdout",
     "output_type": "stream",
     "text": [
      "Entanglement Status: Entangled\n"
     ]
    }
   ],
   "source": [
    "B00.show()\n",
    "B00.entangled()\n",
    "B01.show()\n",
    "B01.entangled()\n",
    "B10.show()\n",
    "B10.entangled()\n",
    "B11.show()\n",
    "B11.entangled()"
   ]
  },
  {
   "cell_type": "code",
   "execution_count": 5,
   "metadata": {},
   "outputs": [
    {
     "data": {
      "text/latex": [
       "$\\frac{1}{2}\\left|\\mathtt{\\text{00}}\\right\\rangle+\\frac{1}{2}\\left|\\mathtt{\\text{01}}\\right\\rangle+\\frac{1}{2}\\left|\\mathtt{\\text{10}}\\right\\rangle+\\frac{1}{2}\\left|\\mathtt{\\text{11}}\\right\\rangle$"
      ],
      "text/plain": [
       "<IPython.core.display.Latex object>"
      ]
     },
     "metadata": {},
     "output_type": "display_data"
    },
    {
     "name": "stdout",
     "output_type": "stream",
     "text": [
      "Entanglement Status: Not Entangled\n"
     ]
    }
   ],
   "source": [
    "state1 = State(\n",
    "    [sym.Rational(1, 2), sym.Rational(1, 2),\n",
    "     sym.Rational(1, 2), sym.Rational(1, 2)],\n",
    "    [\"00\", \"01\", \"10\", \"11\"]\n",
    ")\n",
    "state1.show()\n",
    "state1.entangled()\n"
   ]
  },
  {
   "cell_type": "code",
   "execution_count": 51,
   "metadata": {},
   "outputs": [
    {
     "data": {
      "text/latex": [
       "$\\frac{\\sqrt{2}}{2}\\left|\\mathtt{\\text{10}}\\right\\rangle+\\frac{\\sqrt{2}}{2}\\left|\\mathtt{\\text{11}}\\right\\rangle$"
      ],
      "text/plain": [
       "<IPython.core.display.Latex object>"
      ]
     },
     "metadata": {},
     "output_type": "display_data"
    }
   ],
   "source": [
    "state1.measure(0).show()"
   ]
  },
  {
   "cell_type": "code",
   "execution_count": 7,
   "metadata": {},
   "outputs": [
    {
     "data": {
      "text/latex": [
       "$\\frac{\\sqrt{10}}{10}\\left|\\mathtt{\\text{000}}\\right\\rangle+\\frac{\\sqrt{30}}{10}\\left|\\mathtt{\\text{010}}\\right\\rangle+\\frac{\\sqrt{5}}{5}\\left|\\mathtt{\\text{101}}\\right\\rangle+\\frac{\\sqrt{10}}{10}\\left|\\mathtt{\\text{111}}\\right\\rangle+\\frac{\\sqrt{30}}{10}\\left|\\mathtt{\\text{110}}\\right\\rangle$"
      ],
      "text/plain": [
       "<IPython.core.display.Latex object>"
      ]
     },
     "metadata": {},
     "output_type": "display_data"
    },
    {
     "data": {
      "text/latex": [
       "$\\frac{\\sqrt{3}}{3}\\left|\\mathtt{\\text{101}}\\right\\rangle+\\frac{\\sqrt{6}}{6}\\left|\\mathtt{\\text{111}}\\right\\rangle+\\frac{\\sqrt{2}}{2}\\left|\\mathtt{\\text{110}}\\right\\rangle$"
      ],
      "text/plain": [
       "<IPython.core.display.Latex object>"
      ]
     },
     "metadata": {},
     "output_type": "display_data"
    }
   ],
   "source": [
    "state_long = State(\n",
    "    [\n",
    "        1/sym.sqrt(10), sym.sqrt(3)/sym.sqrt(10), sym.sqrt(2) /\n",
    "        sym.sqrt(10), 1/sym.sqrt(10), sym.sqrt(3)/sym.sqrt(10)\n",
    "    ],\n",
    "    [\"000\", \"010\", \"101\", \"111\", \"110\"]\n",
    ")\n",
    "state_long.show()\n",
    "state_long.measure(0).show()\n"
   ]
  },
  {
   "cell_type": "code",
   "execution_count": 8,
   "metadata": {},
   "outputs": [
    {
     "data": {
      "text/latex": [
       "$\\left|\\mathtt{\\text{11}}\\right\\rangle$"
      ],
      "text/plain": [
       "<IPython.core.display.Latex object>"
      ]
     },
     "metadata": {},
     "output_type": "display_data"
    },
    {
     "name": "stdout",
     "output_type": "stream",
     "text": [
      "Entanglement Status: Not Entangled\n"
     ]
    }
   ],
   "source": [
    "state2 = State(\n",
    "    [1],\n",
    "    [\"11\"]\n",
    ")\n",
    "state2.show()\n",
    "state2.entangled()\n"
   ]
  },
  {
   "cell_type": "code",
   "execution_count": 9,
   "metadata": {},
   "outputs": [
    {
     "data": {
      "text/latex": [
       "$\\frac{1}{2}\\left|\\mathtt{\\text{00}}\\right\\rangle+\\frac{1}{2}\\left|\\mathtt{\\text{01}}\\right\\rangle+\\frac{1}{2}\\left|\\mathtt{\\text{10}}\\right\\rangle+\\frac{1}{2}\\left|\\mathtt{\\text{11}}\\right\\rangle$"
      ],
      "text/plain": [
       "<IPython.core.display.Latex object>"
      ]
     },
     "metadata": {},
     "output_type": "display_data"
    },
    {
     "name": "stdout",
     "output_type": "stream",
     "text": [
      "Entanglement Status: Not Entangled\n"
     ]
    }
   ],
   "source": [
    "state3 = State(\n",
    "    [sym.Rational(1, 2), sym.Rational(1, 2),\n",
    "     sym.Rational(1, 2), sym.Rational(1, 2)],\n",
    "    [\"00\", \"01\", \"10\", \"11\"]\n",
    ")\n",
    "state3.show()\n",
    "state3.entangled()\n"
   ]
  },
  {
   "cell_type": "code",
   "execution_count": 10,
   "metadata": {},
   "outputs": [
    {
     "data": {
      "text/latex": [
       "$\\frac{1}{2}\\left|\\mathtt{\\text{00}}\\right\\rangle+\\frac{1}{2}\\left|\\mathtt{\\text{01}}\\right\\rangle+\\frac{1}{2}\\left|\\mathtt{\\text{10}}\\right\\rangle+\\frac{1}{2}\\left|\\mathtt{\\text{11}}\\right\\rangle$"
      ],
      "text/plain": [
       "<IPython.core.display.Latex object>"
      ]
     },
     "metadata": {},
     "output_type": "display_data"
    },
    {
     "data": {
      "text/latex": [
       "$\\frac{1}{2}\\left|\\mathtt{\\text{00}}\\right\\rangle+\\frac{1}{2}\\left|\\mathtt{\\text{01}}\\right\\rangle+\\frac{1}{2}\\left|\\mathtt{\\text{10}}\\right\\rangle+\\frac{1}{2}\\left|\\mathtt{\\text{11}}\\right\\rangle$"
      ],
      "text/plain": [
       "<IPython.core.display.Latex object>"
      ]
     },
     "metadata": {},
     "output_type": "display_data"
    }
   ],
   "source": [
    "X(state1, 0).show()\n",
    "NOT(state1, 0).show()\n"
   ]
  },
  {
   "cell_type": "code",
   "execution_count": 11,
   "metadata": {},
   "outputs": [
    {
     "data": {
      "text/latex": [
       "$\\frac{1}{2}\\left|\\mathtt{\\text{00}}\\right\\rangle+\\frac{1}{2}\\left|\\mathtt{\\text{01}}\\right\\rangle+\\frac{1}{2}\\left|\\mathtt{\\text{11}}\\right\\rangle+\\frac{1}{2}\\left|\\mathtt{\\text{10}}\\right\\rangle$"
      ],
      "text/plain": [
       "<IPython.core.display.Latex object>"
      ]
     },
     "metadata": {},
     "output_type": "display_data"
    },
    {
     "data": {
      "text/latex": [
       "$\\frac{1}{2}\\left|\\mathtt{\\text{00}}\\right\\rangle+\\frac{1}{2}\\left|\\mathtt{\\text{01}}\\right\\rangle+\\frac{1}{2}\\left|\\mathtt{\\text{11}}\\right\\rangle+\\frac{1}{2}\\left|\\mathtt{\\text{10}}\\right\\rangle$"
      ],
      "text/plain": [
       "<IPython.core.display.Latex object>"
      ]
     },
     "metadata": {},
     "output_type": "display_data"
    }
   ],
   "source": [
    "CX(state1, 0, 1).show()\n",
    "CNOT(state1, 0, 1).show()\n"
   ]
  },
  {
   "cell_type": "code",
   "execution_count": 12,
   "metadata": {},
   "outputs": [
    {
     "data": {
      "text/latex": [
       "$- \\frac{i}{2}\\left|\\mathtt{\\text{00}}\\right\\rangle- \\frac{i}{2}\\left|\\mathtt{\\text{01}}\\right\\rangle+\\frac{i}{2}\\left|\\mathtt{\\text{10}}\\right\\rangle+\\frac{i}{2}\\left|\\mathtt{\\text{11}}\\right\\rangle$"
      ],
      "text/plain": [
       "<IPython.core.display.Latex object>"
      ]
     },
     "metadata": {},
     "output_type": "display_data"
    }
   ],
   "source": [
    "Y(state1, 0).show()\n"
   ]
  },
  {
   "cell_type": "code",
   "execution_count": 13,
   "metadata": {},
   "outputs": [
    {
     "data": {
      "text/latex": [
       "$\\frac{1}{2}\\left|\\mathtt{\\text{00}}\\right\\rangle+\\frac{1}{2}\\left|\\mathtt{\\text{01}}\\right\\rangle+\\frac{i}{2}\\left|\\mathtt{\\text{11}}\\right\\rangle- \\frac{i}{2}\\left|\\mathtt{\\text{10}}\\right\\rangle$"
      ],
      "text/plain": [
       "<IPython.core.display.Latex object>"
      ]
     },
     "metadata": {},
     "output_type": "display_data"
    }
   ],
   "source": [
    "CY(state1, 0, 1).show()\n"
   ]
  },
  {
   "cell_type": "code",
   "execution_count": 14,
   "metadata": {},
   "outputs": [
    {
     "data": {
      "text/latex": [
       "$\\frac{1}{2}\\left|\\mathtt{\\text{00}}\\right\\rangle+\\frac{1}{2}\\left|\\mathtt{\\text{01}}\\right\\rangle- \\frac{1}{2}\\left|\\mathtt{\\text{10}}\\right\\rangle- \\frac{1}{2}\\left|\\mathtt{\\text{11}}\\right\\rangle$"
      ],
      "text/plain": [
       "<IPython.core.display.Latex object>"
      ]
     },
     "metadata": {},
     "output_type": "display_data"
    }
   ],
   "source": [
    "Z(state1, 0).show()\n"
   ]
  },
  {
   "cell_type": "code",
   "execution_count": 15,
   "metadata": {},
   "outputs": [
    {
     "data": {
      "text/latex": [
       "$\\frac{1}{2}\\left|\\mathtt{\\text{00}}\\right\\rangle+\\frac{1}{2}\\left|\\mathtt{\\text{01}}\\right\\rangle+\\frac{1}{2}\\left|\\mathtt{\\text{10}}\\right\\rangle- \\frac{1}{2}\\left|\\mathtt{\\text{11}}\\right\\rangle$"
      ],
      "text/plain": [
       "<IPython.core.display.Latex object>"
      ]
     },
     "metadata": {},
     "output_type": "display_data"
    }
   ],
   "source": [
    "CZ(state1, 0, 1).show()\n"
   ]
  },
  {
   "cell_type": "code",
   "execution_count": 16,
   "metadata": {},
   "outputs": [
    {
     "data": {
      "text/latex": [
       "$\\frac{\\sqrt{2}}{2}\\left|\\mathtt{\\text{00}}\\right\\rangle+\\frac{\\sqrt{2}}{2}\\left|\\mathtt{\\text{01}}\\right\\rangle$"
      ],
      "text/plain": [
       "<IPython.core.display.Latex object>"
      ]
     },
     "metadata": {},
     "output_type": "display_data"
    }
   ],
   "source": [
    "H(state1, 0).show()\n"
   ]
  },
  {
   "cell_type": "code",
   "execution_count": 17,
   "metadata": {},
   "outputs": [
    {
     "data": {
      "text/latex": [
       "$\\frac{1}{2}\\left|\\mathtt{\\text{00}}\\right\\rangle+\\frac{1}{2}\\left|\\mathtt{\\text{01}}\\right\\rangle+\\frac{\\sqrt{2}}{4}\\left|\\mathtt{\\text{10}}\\right\\rangle- \\frac{\\sqrt{2}}{4}\\left|\\mathtt{\\text{11}}\\right\\rangle+\\frac{\\sqrt{2}}{4}\\left|\\mathtt{\\text{10}}\\right\\rangle+\\frac{\\sqrt{2}}{4}\\left|\\mathtt{\\text{11}}\\right\\rangle$"
      ],
      "text/plain": [
       "<IPython.core.display.Latex object>"
      ]
     },
     "metadata": {},
     "output_type": "display_data"
    }
   ],
   "source": [
    "CH(state1, 0, 1).show()\n"
   ]
  },
  {
   "cell_type": "code",
   "execution_count": 18,
   "metadata": {},
   "outputs": [
    {
     "data": {
      "text/latex": [
       "$\\frac{1}{2}\\left|\\mathtt{\\text{00}}\\right\\rangle+\\frac{1}{2}\\left|\\mathtt{\\text{10}}\\right\\rangle+\\frac{1}{2}\\left|\\mathtt{\\text{01}}\\right\\rangle+\\frac{1}{2}\\left|\\mathtt{\\text{11}}\\right\\rangle$"
      ],
      "text/plain": [
       "<IPython.core.display.Latex object>"
      ]
     },
     "metadata": {},
     "output_type": "display_data"
    }
   ],
   "source": [
    "SWAP(state1, 0, 1).show()\n"
   ]
  },
  {
   "cell_type": "code",
   "execution_count": 19,
   "metadata": {},
   "outputs": [
    {
     "data": {
      "text/latex": [
       "$\\frac{1}{2}\\left|\\mathtt{\\text{00}}\\right\\rangle+\\frac{1}{2}\\left|\\mathtt{\\text{01}}\\right\\rangle+\\frac{\\sqrt{2} \\left(1 + i\\right)}{4}\\left|\\mathtt{\\text{10}}\\right\\rangle+\\frac{\\sqrt{2} \\left(1 + i\\right)}{4}\\left|\\mathtt{\\text{11}}\\right\\rangle$"
      ],
      "text/plain": [
       "<IPython.core.display.Latex object>"
      ]
     },
     "metadata": {},
     "output_type": "display_data"
    }
   ],
   "source": [
    "P(state1, 0, phase=sym.pi/4).show()\n"
   ]
  },
  {
   "cell_type": "code",
   "execution_count": 20,
   "metadata": {},
   "outputs": [
    {
     "data": {
      "text/latex": [
       "$\\frac{1}{2}\\left|\\mathtt{\\text{00}}\\right\\rangle+\\frac{1}{2}\\left|\\mathtt{\\text{01}}\\right\\rangle+\\frac{1}{2}\\left|\\mathtt{\\text{10}}\\right\\rangle+\\frac{\\sqrt{2} \\left(1 + i\\right)}{4}\\left|\\mathtt{\\text{11}}\\right\\rangle$"
      ],
      "text/plain": [
       "<IPython.core.display.Latex object>"
      ]
     },
     "metadata": {},
     "output_type": "display_data"
    }
   ],
   "source": [
    "CP(state1, 0, 1, phase=sym.pi/4).show()\n"
   ]
  },
  {
   "cell_type": "markdown",
   "metadata": {},
   "source": [
    "# Quantum Teleportation\n",
    "#### Page 114 - 117 of the [lecture notes][1]\n",
    "\n",
    "[1]: https://baraksh.com/4P51/Barak_Shoshany_PHYS_4P51_Lecture_Notes.pdf"
   ]
  },
  {
   "cell_type": "code",
   "execution_count": 21,
   "metadata": {},
   "outputs": [
    {
     "data": {
      "text/latex": [
       "$\\frac{\\sqrt{161114} \\left(387 + 622 i\\right)}{483342}\\left|\\mathtt{\\text{0}}\\right\\rangle+\\frac{\\sqrt{161114} \\left(562 + 773 i\\right)}{483342}\\left|\\mathtt{\\text{1}}\\right\\rangle$"
      ],
      "text/plain": [
       "<IPython.core.display.Latex object>"
      ]
     },
     "metadata": {},
     "output_type": "display_data"
    }
   ],
   "source": [
    "alice_some_state = random_state()\n",
    "alice_some_state.show()\n"
   ]
  },
  {
   "cell_type": "code",
   "execution_count": 22,
   "metadata": {},
   "outputs": [
    {
     "data": {
      "text/latex": [
       "$\\frac{\\sqrt{161114} \\left(387 + 622 i\\right)}{483342}\\left|\\mathtt{\\text{000}}\\right\\rangle+\\frac{\\sqrt{161114} \\left(562 + 773 i\\right)}{483342}\\left|\\mathtt{\\text{001}}\\right\\rangle$"
      ],
      "text/plain": [
       "<IPython.core.display.Latex object>"
      ]
     },
     "metadata": {},
     "output_type": "display_data"
    }
   ],
   "source": [
    "gamma = alice_some_state * B00\n",
    "CNOT12_gamma = CNOT(gamma, 0, 1)\n",
    "H1_CNOT12_gamma = H(CNOT12_gamma, 0)\n",
    "result = H1_CNOT12_gamma.measure(0, 1)\n",
    "result.show()\n"
   ]
  },
  {
   "cell_type": "code",
   "execution_count": 23,
   "metadata": {},
   "outputs": [
    {
     "data": {
      "text/latex": [
       "$\\left|\\mathtt{\\text{00}}\\right\\rangle$"
      ],
      "text/plain": [
       "<IPython.core.display.Latex object>"
      ]
     },
     "metadata": {},
     "output_type": "display_data"
    },
    {
     "data": {
      "text/latex": [
       "$\\frac{\\sqrt{161114} \\left(387 + 622 i\\right)}{483342}\\left|\\mathtt{\\text{0}}\\right\\rangle+\\frac{\\sqrt{161114} \\left(562 + 773 i\\right)}{483342}\\left|\\mathtt{\\text{1}}\\right\\rangle$"
      ],
      "text/plain": [
       "<IPython.core.display.Latex object>"
      ]
     },
     "metadata": {},
     "output_type": "display_data"
    }
   ],
   "source": [
    "alice, bob = bits_to_send(result)\n",
    "alice.show()\n",
    "bob.show()\n"
   ]
  },
  {
   "cell_type": "code",
   "execution_count": 24,
   "metadata": {},
   "outputs": [
    {
     "data": {
      "text/latex": [
       "$\\frac{\\sqrt{161114} \\left(387 + 622 i\\right)}{483342}\\left|\\mathtt{\\text{0}}\\right\\rangle+\\frac{\\sqrt{161114} \\left(562 + 773 i\\right)}{483342}\\left|\\mathtt{\\text{1}}\\right\\rangle$"
      ],
      "text/plain": [
       "<IPython.core.display.Latex object>"
      ]
     },
     "metadata": {},
     "output_type": "display_data"
    },
    {
     "data": {
      "text/latex": [
       "$\\frac{\\sqrt{161114} \\left(387 + 622 i\\right)}{483342}\\left|\\mathtt{\\text{0}}\\right\\rangle+\\frac{\\sqrt{161114} \\left(562 + 773 i\\right)}{483342}\\left|\\mathtt{\\text{1}}\\right\\rangle$"
      ],
      "text/plain": [
       "<IPython.core.display.Latex object>"
      ]
     },
     "metadata": {},
     "output_type": "display_data"
    }
   ],
   "source": [
    "bob_some_state = receive_state(alice, bob)\n",
    "bob_some_state.show()\n",
    "alice_some_state.show()\n"
   ]
  },
  {
   "cell_type": "markdown",
   "metadata": {},
   "source": [
    "# Deutsch-Jozsa Algorithm\n",
    "#### Page 121 - 127 of the [lecture notes][1]\n",
    "\n",
    "[1]: https://baraksh.com/4P51/Barak_Shoshany_PHYS_4P51_Lecture_Notes.pdf"
   ]
  },
  {
   "cell_type": "code",
   "execution_count": 25,
   "metadata": {},
   "outputs": [
    {
     "data": {
      "text/latex": [
       "$\\left|\\mathtt{\\text{0001}}\\right\\rangle$"
      ],
      "text/plain": [
       "<IPython.core.display.Latex object>"
      ]
     },
     "metadata": {},
     "output_type": "display_data"
    }
   ],
   "source": [
    "n = 3\n",
    "zeros = state_n_zeros(n)\n",
    "psi = zeros * one\n",
    "psi.show()\n"
   ]
  },
  {
   "cell_type": "code",
   "execution_count": 26,
   "metadata": {},
   "outputs": [
    {
     "data": {
      "text/latex": [
       "$\\frac{\\sqrt{2}}{4}\\left|\\mathtt{\\text{0001}}\\right\\rangle+\\frac{\\sqrt{2}}{4}\\left|\\mathtt{\\text{0011}}\\right\\rangle+\\frac{\\sqrt{2}}{4}\\left|\\mathtt{\\text{0101}}\\right\\rangle+\\frac{\\sqrt{2}}{4}\\left|\\mathtt{\\text{0111}}\\right\\rangle+\\frac{\\sqrt{2}}{4}\\left|\\mathtt{\\text{1001}}\\right\\rangle+\\frac{\\sqrt{2}}{4}\\left|\\mathtt{\\text{1011}}\\right\\rangle+\\frac{\\sqrt{2}}{4}\\left|\\mathtt{\\text{1101}}\\right\\rangle+\\frac{\\sqrt{2}}{4}\\left|\\mathtt{\\text{1111}}\\right\\rangle$"
      ],
      "text/plain": [
       "<IPython.core.display.Latex object>"
      ]
     },
     "metadata": {},
     "output_type": "display_data"
    },
    {
     "data": {
      "text/latex": [
       "$\\frac{1}{4}\\left|\\mathtt{\\text{0000}}\\right\\rangle- \\frac{1}{4}\\left|\\mathtt{\\text{0001}}\\right\\rangle+\\frac{1}{4}\\left|\\mathtt{\\text{0010}}\\right\\rangle- \\frac{1}{4}\\left|\\mathtt{\\text{0011}}\\right\\rangle+\\frac{1}{4}\\left|\\mathtt{\\text{0100}}\\right\\rangle- \\frac{1}{4}\\left|\\mathtt{\\text{0101}}\\right\\rangle+\\frac{1}{4}\\left|\\mathtt{\\text{0110}}\\right\\rangle- \\frac{1}{4}\\left|\\mathtt{\\text{0111}}\\right\\rangle+\\frac{1}{4}\\left|\\mathtt{\\text{1000}}\\right\\rangle- \\frac{1}{4}\\left|\\mathtt{\\text{1001}}\\right\\rangle+\\frac{1}{4}\\left|\\mathtt{\\text{1010}}\\right\\rangle- \\frac{1}{4}\\left|\\mathtt{\\text{1011}}\\right\\rangle+\\frac{1}{4}\\left|\\mathtt{\\text{1100}}\\right\\rangle- \\frac{1}{4}\\left|\\mathtt{\\text{1101}}\\right\\rangle+\\frac{1}{4}\\left|\\mathtt{\\text{1110}}\\right\\rangle- \\frac{1}{4}\\left|\\mathtt{\\text{1111}}\\right\\rangle$"
      ],
      "text/plain": [
       "<IPython.core.display.Latex object>"
      ]
     },
     "metadata": {},
     "output_type": "display_data"
    }
   ],
   "source": [
    "H_1ton_psi = H_transform(psi, n)\n",
    "H_1ton_psi.show()\n",
    "H_last_H_1ton_psi = H(H_1ton_psi, n)\n",
    "H_last_H_1ton_psi.show()\n"
   ]
  },
  {
   "cell_type": "code",
   "execution_count": 72,
   "metadata": {},
   "outputs": [
    {
     "data": {
      "text/latex": [
       "$- \\frac{1}{4}\\left|\\mathtt{\\text{0000}}\\right\\rangle+\\frac{1}{4}\\left|\\mathtt{\\text{0001}}\\right\\rangle- \\frac{1}{4}\\left|\\mathtt{\\text{0010}}\\right\\rangle+\\frac{1}{4}\\left|\\mathtt{\\text{0011}}\\right\\rangle- \\frac{1}{4}\\left|\\mathtt{\\text{0100}}\\right\\rangle+\\frac{1}{4}\\left|\\mathtt{\\text{0101}}\\right\\rangle- \\frac{1}{4}\\left|\\mathtt{\\text{0110}}\\right\\rangle+\\frac{1}{4}\\left|\\mathtt{\\text{0111}}\\right\\rangle- \\frac{1}{4}\\left|\\mathtt{\\text{1000}}\\right\\rangle+\\frac{1}{4}\\left|\\mathtt{\\text{1001}}\\right\\rangle- \\frac{1}{4}\\left|\\mathtt{\\text{1010}}\\right\\rangle+\\frac{1}{4}\\left|\\mathtt{\\text{1011}}\\right\\rangle- \\frac{1}{4}\\left|\\mathtt{\\text{1100}}\\right\\rangle+\\frac{1}{4}\\left|\\mathtt{\\text{1101}}\\right\\rangle- \\frac{1}{4}\\left|\\mathtt{\\text{1110}}\\right\\rangle+\\frac{1}{4}\\left|\\mathtt{\\text{1111}}\\right\\rangle$"
      ],
      "text/plain": [
       "<IPython.core.display.Latex object>"
      ]
     },
     "metadata": {},
     "output_type": "display_data"
    },
    {
     "data": {
      "text/latex": [
       "$- \\frac{\\sqrt{2}}{2}\\left|\\mathtt{\\text{0000}}\\right\\rangle+\\frac{\\sqrt{2}}{2}\\left|\\mathtt{\\text{0001}}\\right\\rangle$"
      ],
      "text/plain": [
       "<IPython.core.display.Latex object>"
      ]
     },
     "metadata": {},
     "output_type": "display_data"
    },
    {
     "name": "stdout",
     "output_type": "stream",
     "text": [
      "DJU Algorithm Result: f(x) is Constant\n"
     ]
    }
   ],
   "source": [
    "U_H_last_H_1ton_psi = DJU(H_last_H_1ton_psi, \"random\")\n",
    "U_H_last_H_1ton_psi.show()\n",
    "\n",
    "H_1ton_U_H_last_H_1ton_psi = H_transform(U_H_last_H_1ton_psi, n)\n",
    "result = H_1ton_U_H_last_H_1ton_psi.measure(*[i for i in range(n)])\n",
    "result.show()\n",
    "DJU_result(result)\n"
   ]
  },
  {
   "cell_type": "markdown",
   "metadata": {},
   "source": [
    "# Classical Computer vs. Quantum Computer\n",
    "\n",
    "Clearly, this is being run on a classical computer, so the speedup that can be observed by performing the Deutsch-Jorsza algortihm on a quantum computer cannot be seen. However, the fact that the algorithm can be run on a classical computer is of no issue. We are simulating the algorithm in this notebook, and in order to do so, we are indeed actually calculating all $2^n$ values of $f(x)$ behind the scenes.\n",
    "\n",
    "This is a problem, as once $n$ grows large enough, the simulation will take an extremely long time to finish. For example:\n",
    "\n",
    "- For $n=7$, the simulation takes approximately 10 seconds to run in total.\n",
    "- For $n=8$, the simulation takes approximately 40 seconds to run in total.\n",
    "- For $n=9$, the simulation takes upwards of 160 seconds to run in total.\n",
    "\n",
    "This will only continue to take longer and longer as we increase $n$. So while we may be able to simulate the algorithm on a classical computer for small $n$, if we had a system of a large number of qubits, say $n=64$, we would have a much more difficult time simulating the algorithm (unless you are willing to wate hundreds of thousands of years for the result)."
   ]
  }
 ],
 "metadata": {
  "interpreter": {
   "hash": "8f0aa77b08787691d5ad57eb67530aa0f6a54135b18cc5e5fe8bb43e780afa21"
  },
  "kernelspec": {
   "display_name": "Python 3.8.8 64-bit ('base': conda)",
   "language": "python",
   "name": "python3"
  },
  "language_info": {
   "codemirror_mode": {
    "name": "ipython",
    "version": 3
   },
   "file_extension": ".py",
   "mimetype": "text/x-python",
   "name": "python",
   "nbconvert_exporter": "python",
   "pygments_lexer": "ipython3",
   "version": "3.8.8"
  },
  "orig_nbformat": 4
 },
 "nbformat": 4,
 "nbformat_minor": 2
}
